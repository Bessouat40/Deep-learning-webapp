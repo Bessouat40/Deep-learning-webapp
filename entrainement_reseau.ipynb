{
  "nbformat": 4,
  "nbformat_minor": 0,
  "metadata": {
    "kernelspec": {
      "language": "python",
      "display_name": "Python 3",
      "name": "python3"
    },
    "language_info": {
      "name": "python",
      "version": "3.7.10",
      "mimetype": "text/x-python",
      "codemirror_mode": {
        "name": "ipython",
        "version": 3
      },
      "pygments_lexer": "ipython3",
      "nbconvert_exporter": "python",
      "file_extension": ".py"
    },
    "colab": {
      "name": "notebookd198a3e3cb.ipynb",
      "provenance": []
    },
    "accelerator": "GPU"
  },
  "cells": [
    {
      "cell_type": "code",
      "metadata": {
        "colab": {
          "base_uri": "https://localhost:8080/"
        },
        "id": "_qsj9uUVyj11",
        "outputId": "e25dc330-30b2-4c82-fb85-53f11979b213"
      },
      "source": [
        "from google.colab import drive\n",
        "drive.mount('/content/drive')"
      ],
      "execution_count": 4,
      "outputs": [
        {
          "output_type": "stream",
          "name": "stdout",
          "text": [
            "Mounted at /content/drive\n"
          ]
        }
      ]
    },
    {
      "cell_type": "code",
      "metadata": {
        "_uuid": "8f2839f25d086af736a60e9eeb907d3b93b6e0e5",
        "_cell_guid": "b1076dfc-b9ad-4769-8c92-a6c4dae69d19",
        "execution": {
          "iopub.status.busy": "2021-09-29T19:12:36.596083Z",
          "iopub.execute_input": "2021-09-29T19:12:36.596445Z",
          "iopub.status.idle": "2021-09-29T19:12:36.602097Z",
          "shell.execute_reply.started": "2021-09-29T19:12:36.596408Z",
          "shell.execute_reply": "2021-09-29T19:12:36.601036Z"
        },
        "trusted": true,
        "id": "p0l1V57uhYjq"
      },
      "source": [
        "import numpy as np \n",
        "import pandas as pd \n",
        "import glob\n",
        "import os"
      ],
      "execution_count": 5,
      "outputs": []
    },
    {
      "cell_type": "code",
      "metadata": {
        "execution": {
          "iopub.status.busy": "2021-09-28T18:01:16.119398Z",
          "iopub.execute_input": "2021-09-28T18:01:16.119624Z",
          "iopub.status.idle": "2021-09-28T18:01:16.178611Z",
          "shell.execute_reply.started": "2021-09-28T18:01:16.119597Z",
          "shell.execute_reply": "2021-09-28T18:01:16.177648Z"
        },
        "trusted": true,
        "id": "VzVj-4vshYjt"
      },
      "source": [
        "test_chat = glob.glob('/content/drive/MyDrive/projet_uqac/bdd/test_set/test_set/cats/' + '*jpg' )\n",
        "test_chien = glob.glob('/content/drive/MyDrive/projet_uqac/bdd/test_set/test_set/dogs/' + '*jpg' )\n",
        "train_chat = glob.glob('/content/drive/MyDrive/projet_uqac/bdd/training_set/training_set/cats/' + '*jpg' ) \n",
        "train_chien = glob.glob('/content/drive/MyDrive/projet_uqac/bdd/training_set/training_set/dogs/' + '*jpg' )\n",
        "\n",
        "x_test = test_chat + test_chien\n",
        "y_test = ['0' for i in range(len(test_chat))] + ['1' for i in range(len(test_chien))]\n",
        "\n",
        "x_train = train_chat + train_chien\n",
        "y_train = ['0' for i in range(len(train_chat))] + ['1' for i in range(len(train_chien))]"
      ],
      "execution_count": 6,
      "outputs": []
    },
    {
      "cell_type": "code",
      "metadata": {
        "execution": {
          "iopub.status.busy": "2021-09-28T18:01:18.896855Z",
          "iopub.execute_input": "2021-09-28T18:01:18.897869Z",
          "iopub.status.idle": "2021-09-28T18:01:18.906531Z",
          "shell.execute_reply.started": "2021-09-28T18:01:18.897815Z",
          "shell.execute_reply": "2021-09-28T18:01:18.905682Z"
        },
        "trusted": true,
        "colab": {
          "base_uri": "https://localhost:8080/"
        },
        "id": "Y-bikrpzhYjv",
        "outputId": "8db1a052-aa88-4ff6-f29e-c728576d27e6"
      },
      "source": [
        "print(len(test_chat))\n",
        "print(len(test_chien))\n",
        "print(len(x_test))\n",
        "print(len(y_test))\n",
        "print('\\n')\n",
        "print(len(train_chat))\n",
        "print(len(train_chien))\n",
        "print(len(x_train))\n",
        "print(len(y_train))"
      ],
      "execution_count": 7,
      "outputs": [
        {
          "output_type": "stream",
          "name": "stdout",
          "text": [
            "1011\n",
            "1012\n",
            "2023\n",
            "2023\n",
            "\n",
            "\n",
            "4000\n",
            "4005\n",
            "8005\n",
            "8005\n"
          ]
        }
      ]
    },
    {
      "cell_type": "code",
      "metadata": {
        "execution": {
          "iopub.status.busy": "2021-09-28T18:01:19.735759Z",
          "iopub.execute_input": "2021-09-28T18:01:19.736631Z",
          "iopub.status.idle": "2021-09-28T18:01:19.749378Z",
          "shell.execute_reply.started": "2021-09-28T18:01:19.736588Z",
          "shell.execute_reply": "2021-09-28T18:01:19.748374Z"
        },
        "trusted": true,
        "id": "xIgfMm8BhYjw"
      },
      "source": [
        "train_df = pd.DataFrame({'filename':x_train, 'label':y_train})\n",
        "test_df = pd.DataFrame({'filename':x_test, 'label':y_test})"
      ],
      "execution_count": 8,
      "outputs": []
    },
    {
      "cell_type": "code",
      "metadata": {
        "execution": {
          "iopub.status.busy": "2021-09-28T18:01:20.581074Z",
          "iopub.execute_input": "2021-09-28T18:01:20.581542Z",
          "iopub.status.idle": "2021-09-28T18:01:26.137903Z",
          "shell.execute_reply.started": "2021-09-28T18:01:20.5815Z",
          "shell.execute_reply": "2021-09-28T18:01:26.13703Z"
        },
        "trusted": true,
        "id": "ReCv9uO3hYjx"
      },
      "source": [
        "import tensorflow as tf\n",
        "# Transform Image\n",
        "train_generator = tf.keras.preprocessing.image.ImageDataGenerator(\n",
        "    rescale = 1./255,\n",
        "    horizontal_flip = True,\n",
        "    #width_shift_range = 0.2,\n",
        "    #height_shift_range = 0.2,\n",
        "    validation_split = 0.2\n",
        ")\n",
        "test_generator = tf.keras.preprocessing.image.ImageDataGenerator(\n",
        "    rescale = 1./255\n",
        ")"
      ],
      "execution_count": 9,
      "outputs": []
    },
    {
      "cell_type": "code",
      "metadata": {
        "execution": {
          "iopub.status.busy": "2021-09-28T18:01:26.140214Z",
          "iopub.execute_input": "2021-09-28T18:01:26.140598Z",
          "iopub.status.idle": "2021-09-28T18:01:47.50054Z",
          "shell.execute_reply.started": "2021-09-28T18:01:26.140553Z",
          "shell.execute_reply": "2021-09-28T18:01:47.49852Z"
        },
        "trusted": true,
        "colab": {
          "base_uri": "https://localhost:8080/"
        },
        "id": "uTF9Mo0rhYjy",
        "outputId": "39c3c710-6c40-4ce9-8a3f-b094966fc966"
      },
      "source": [
        "train_img = train_generator.flow_from_dataframe(\n",
        "    dataframe = train_df,\n",
        "    x_col = 'filename',\n",
        "    y_col = 'label',\n",
        "    target_size = (64, 64),\n",
        "    color_mode = 'rgb',\n",
        "    class_mode = 'categorical',\n",
        "    batch_size = 32,\n",
        "    shuffle = True,\n",
        "    seed =42,\n",
        "    subset = 'training'\n",
        ")\n",
        "val_img = train_generator.flow_from_dataframe(\n",
        "    dataframe = train_df,\n",
        "    x_col = 'filename',\n",
        "    y_col = 'label',\n",
        "    target_size = (64, 64),\n",
        "    color_mode = 'rgb',\n",
        "    class_mode = 'categorical',\n",
        "    batch_size = 32,\n",
        "    shuffle = True,\n",
        "    seed = 42,\n",
        "    subset = 'validation'\n",
        ")\n",
        "\n",
        "test_img = test_generator.flow_from_dataframe(\n",
        "    dataframe = test_df,\n",
        "    x_col = 'filename',\n",
        "    y_col = 'label',\n",
        "    target_size = (64, 64),\n",
        "    color_mode = 'rgb',\n",
        "    class_mode = 'categorical',\n",
        "    batch_size = 32,\n",
        "    shuffle = False\n",
        ")"
      ],
      "execution_count": 10,
      "outputs": [
        {
          "output_type": "stream",
          "name": "stdout",
          "text": [
            "Found 6404 validated image filenames belonging to 2 classes.\n",
            "Found 1601 validated image filenames belonging to 2 classes.\n",
            "Found 2023 validated image filenames belonging to 2 classes.\n"
          ]
        }
      ]
    },
    {
      "cell_type": "code",
      "metadata": {
        "execution": {
          "iopub.status.busy": "2021-09-28T18:01:47.502222Z",
          "iopub.execute_input": "2021-09-28T18:01:47.502485Z",
          "iopub.status.idle": "2021-09-28T21:29:26.001417Z",
          "shell.execute_reply.started": "2021-09-28T18:01:47.502457Z",
          "shell.execute_reply": "2021-09-28T21:29:26.00036Z"
        },
        "trusted": true,
        "id": "y9tsfjDRhYj0"
      },
      "source": [
        "from tensorflow.keras.layers import *\n",
        "from tensorflow.keras import Model\n",
        "\n",
        "model = tf.keras.models.Sequential()\n",
        "\n",
        "#STEP 1: ADDING CONVOLUTIONAL LAYER\n",
        "model.add(tf.keras.layers.Conv2D(filters=32, kernel_size=3, activation='relu', input_shape=[64, 64, 3]))\n",
        "model.add(tf.keras.layers.MaxPool2D(pool_size=2, strides=2))\n",
        "\n",
        "model.add(tf.keras.layers.Conv2D(filters = 64,kernel_size = 3, activation = 'relu'))\n",
        "model.add(tf.keras.layers.MaxPool2D(pool_size = 2, strides = 2))\n",
        "\n",
        "model.add(tf.keras.layers.Conv2D(filters = 128,kernel_size = 3, activation = 'relu'))\n",
        "model.add(tf.keras.layers.MaxPool2D(pool_size = 2, strides = 2))\n",
        "\n",
        "model.add(tf.keras.layers.Flatten())\n",
        "\n",
        "model.add(tf.keras.layers.Dense(units=256, activation='relu'))\n",
        "\n",
        "model.add(tf.keras.layers.Dense(units=2, activation='softmax'))"
      ],
      "execution_count": 11,
      "outputs": []
    },
    {
      "cell_type": "code",
      "metadata": {
        "colab": {
          "base_uri": "https://localhost:8080/"
        },
        "id": "CtazyvnV1Ctf",
        "outputId": "58185c87-9818-4b66-fdb2-4dc637645dc6"
      },
      "source": [
        "model.compile(\n",
        "    optimizer = 'adam',\n",
        "    loss = 'categorical_crossentropy',\n",
        "    metrics = ['accuracy']\n",
        ")\n",
        "\n",
        "model.summary()"
      ],
      "execution_count": 12,
      "outputs": [
        {
          "output_type": "stream",
          "name": "stdout",
          "text": [
            "Model: \"sequential\"\n",
            "_________________________________________________________________\n",
            "Layer (type)                 Output Shape              Param #   \n",
            "=================================================================\n",
            "conv2d (Conv2D)              (None, 62, 62, 32)        896       \n",
            "_________________________________________________________________\n",
            "max_pooling2d (MaxPooling2D) (None, 31, 31, 32)        0         \n",
            "_________________________________________________________________\n",
            "conv2d_1 (Conv2D)            (None, 29, 29, 64)        18496     \n",
            "_________________________________________________________________\n",
            "max_pooling2d_1 (MaxPooling2 (None, 14, 14, 64)        0         \n",
            "_________________________________________________________________\n",
            "conv2d_2 (Conv2D)            (None, 12, 12, 128)       73856     \n",
            "_________________________________________________________________\n",
            "max_pooling2d_2 (MaxPooling2 (None, 6, 6, 128)         0         \n",
            "_________________________________________________________________\n",
            "flatten (Flatten)            (None, 4608)              0         \n",
            "_________________________________________________________________\n",
            "dense (Dense)                (None, 256)               1179904   \n",
            "_________________________________________________________________\n",
            "dense_1 (Dense)              (None, 2)                 514       \n",
            "=================================================================\n",
            "Total params: 1,273,666\n",
            "Trainable params: 1,273,666\n",
            "Non-trainable params: 0\n",
            "_________________________________________________________________\n"
          ]
        }
      ]
    },
    {
      "cell_type": "code",
      "metadata": {
        "colab": {
          "base_uri": "https://localhost:8080/"
        },
        "id": "NXLR588S1Ww-",
        "outputId": "a07d74a3-3ac6-4aba-eef2-279e21a8c872"
      },
      "source": [
        "model.fit(\n",
        "    train_img,\n",
        "    validation_data = val_img,\n",
        "    epochs = 15,\n",
        "    steps_per_epoch = 150\n",
        ")"
      ],
      "execution_count": 14,
      "outputs": [
        {
          "output_type": "stream",
          "name": "stdout",
          "text": [
            "Epoch 1/15\n",
            "150/150 [==============================] - ETA: 0s - loss: 0.6456 - accuracy: 0.6274Epoch 2/15\n",
            "150/150 [==============================] - 278s 2s/step - loss: 0.6010 - accuracy: 0.6708 - val_loss: 0.7214 - val_accuracy: 0.5440\n",
            "Epoch 3/15\n",
            "150/150 [==============================] - 87s 579ms/step - loss: 0.5387 - accuracy: 0.7250 - val_loss: 0.6655 - val_accuracy: 0.6671\n",
            "Epoch 4/15\n",
            "150/150 [==============================] - 42s 278ms/step - loss: 0.4842 - accuracy: 0.7657 - val_loss: 0.7266 - val_accuracy: 0.6171\n",
            "Epoch 5/15\n",
            "150/150 [==============================] - 32s 215ms/step - loss: 0.4468 - accuracy: 0.7940 - val_loss: 0.6459 - val_accuracy: 0.6852\n",
            "Epoch 6/15\n",
            "150/150 [==============================] - 29s 196ms/step - loss: 0.4254 - accuracy: 0.8039 - val_loss: 0.3851 - val_accuracy: 0.8457\n",
            "Epoch 7/15\n",
            "150/150 [==============================] - 29s 192ms/step - loss: 0.4035 - accuracy: 0.8233 - val_loss: 0.5264 - val_accuracy: 0.7676\n",
            "Epoch 8/15\n",
            "150/150 [==============================] - 29s 191ms/step - loss: 0.3743 - accuracy: 0.8330 - val_loss: 0.5472 - val_accuracy: 0.7589\n",
            "Epoch 9/15\n",
            "150/150 [==============================] - 29s 191ms/step - loss: 0.3457 - accuracy: 0.8422 - val_loss: 0.5356 - val_accuracy: 0.7470\n",
            "Epoch 10/15\n",
            "150/150 [==============================] - 29s 196ms/step - loss: 0.3319 - accuracy: 0.8556 - val_loss: 1.0644 - val_accuracy: 0.5240\n",
            "Epoch 11/15\n",
            "150/150 [==============================] - 30s 198ms/step - loss: 0.3170 - accuracy: 0.8585 - val_loss: 1.1252 - val_accuracy: 0.5103\n",
            "Epoch 12/15\n",
            "150/150 [==============================] - 29s 197ms/step - loss: 0.2765 - accuracy: 0.8825 - val_loss: 0.7731 - val_accuracy: 0.6658\n",
            "Epoch 13/15\n",
            "150/150 [==============================] - 29s 196ms/step - loss: 0.2717 - accuracy: 0.8843 - val_loss: 0.5732 - val_accuracy: 0.7639\n",
            "Epoch 14/15\n",
            "150/150 [==============================] - 29s 197ms/step - loss: 0.2411 - accuracy: 0.9028 - val_loss: 0.4617 - val_accuracy: 0.7939\n",
            "Epoch 15/15\n",
            "150/150 [==============================] - 29s 195ms/step - loss: 0.2258 - accuracy: 0.9081 - val_loss: 0.7386 - val_accuracy: 0.7133\n"
          ]
        },
        {
          "output_type": "execute_result",
          "data": {
            "text/plain": [
              "<keras.callbacks.History at 0x7fde13734310>"
            ]
          },
          "metadata": {},
          "execution_count": 14
        }
      ]
    },
    {
      "cell_type": "code",
      "metadata": {
        "id": "AB_7DPZlzbpa"
      },
      "source": [
        "model.save(\"1_model.h5\")"
      ],
      "execution_count": 15,
      "outputs": []
    }
  ]
}